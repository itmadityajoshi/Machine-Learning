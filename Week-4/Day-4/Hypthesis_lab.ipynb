{
 "cells": [
  {
   "cell_type": "code",
   "execution_count": 2,
   "metadata": {},
   "outputs": [],
   "source": [
    "import pandas as pd"
   ]
  },
  {
   "cell_type": "code",
   "execution_count": 6,
   "metadata": {},
   "outputs": [
    {
     "name": "stdout",
     "output_type": "stream",
     "text": [
      "   Gender Age   Weight  Height\n",
      "0    Male    E      70     7.8\n",
      "1  Female    A      80     7.9\n",
      "2    Male    A      55     6.1\n",
      "3    Male    C      60     5.3\n",
      "4  Female    A      33     5.2\n"
     ]
    }
   ],
   "source": [
    "data = {'Gender': ['Male','Female','Male','Male','Female'],\n",
    "        'Age ': ['E','A','A','C','A'],\n",
    "        'Weight': [ 70,80,55,60,33],\n",
    "        'Height' : [7.8,7.9,6.1,5.3,5.2]\n",
    "        }\n",
    "\n",
    "# print(data)\n",
    "df = pd.DataFrame(data)\n",
    "print(df)"
   ]
  }
 ],
 "metadata": {
  "kernelspec": {
   "display_name": "venv",
   "language": "python",
   "name": "python3"
  },
  "language_info": {
   "codemirror_mode": {
    "name": "ipython",
    "version": 3
   },
   "file_extension": ".py",
   "mimetype": "text/x-python",
   "name": "python",
   "nbconvert_exporter": "python",
   "pygments_lexer": "ipython3",
   "version": "3.11.6"
  }
 },
 "nbformat": 4,
 "nbformat_minor": 2
}
