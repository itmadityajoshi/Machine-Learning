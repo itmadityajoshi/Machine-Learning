{
 "cells": [
  {
   "cell_type": "code",
   "execution_count": 1,
   "metadata": {},
   "outputs": [],
   "source": [
    "import pandas as pd\n"
   ]
  },
  {
   "cell_type": "code",
   "execution_count": 9,
   "metadata": {},
   "outputs": [
    {
     "name": "stdout",
     "output_type": "stream",
     "text": [
      "   First  Second  Third\n",
      "0      1       2      3\n",
      "1     11      12     13\n"
     ]
    }
   ],
   "source": [
    "list_1 = [[1,2,3],[11,12,13]]\n",
    "\n",
    "var = pd.DataFrame(list_1,columns= ['First','Second','Third'])\n",
    "print(var)"
   ]
  },
  {
   "cell_type": "code",
   "execution_count": 17,
   "metadata": {},
   "outputs": [
    {
     "name": "stdout",
     "output_type": "stream",
     "text": [
      "       a   b\n",
      "a    ram  60\n",
      "b    sam  70\n",
      "c   hari  55\n",
      "d  geeta  98\n"
     ]
    }
   ],
   "source": [
    "dic = {\n",
    "    'a' : ['ram','sam','hari','geeta'],\n",
    "    'b' : [60,70,55,98]\n",
    "}\n",
    "\n",
    "var1 = pd.DataFrame(dic, index=['a','b','c','d'])\n",
    "print(var1)"
   ]
  },
  {
   "cell_type": "code",
   "execution_count": null,
   "metadata": {},
   "outputs": [],
   "source": []
  }
 ],
 "metadata": {
  "kernelspec": {
   "display_name": "venv",
   "language": "python",
   "name": "python3"
  },
  "language_info": {
   "codemirror_mode": {
    "name": "ipython",
    "version": 3
   },
   "file_extension": ".py",
   "mimetype": "text/x-python",
   "name": "python",
   "nbconvert_exporter": "python",
   "pygments_lexer": "ipython3",
   "version": "3.11.6"
  }
 },
 "nbformat": 4,
 "nbformat_minor": 2
}
