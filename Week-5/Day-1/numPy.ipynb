{
 "cells": [
  {
   "cell_type": "code",
   "execution_count": 3,
   "metadata": {},
   "outputs": [],
   "source": [
    "import numpy as np"
   ]
  },
  {
   "cell_type": "markdown",
   "metadata": {},
   "source": [
    "1. Array Creation \n",
    "    create numpy array via 1D list\n",
    "    "
   ]
  },
  {
   "cell_type": "code",
   "execution_count": 4,
   "metadata": {},
   "outputs": [
    {
     "name": "stdout",
     "output_type": "stream",
     "text": [
      "['1' '2' '4' '5' 'adi']\n",
      "<class 'numpy.ndarray'>\n"
     ]
    }
   ],
   "source": [
    "list1 = [1,2,4,5, 'adi']\n",
    "\n",
    "arr1 = np.array(list1)\n",
    "print(arr1)\n",
    "print(type(arr1))"
   ]
  },
  {
   "cell_type": "markdown",
   "metadata": {},
   "source": [
    "2. Array Creation \n",
    "    create numpy array via 2D list\n",
    "    set  explicitly data type to float32\n",
    "    "
   ]
  },
  {
   "cell_type": "code",
   "execution_count": 5,
   "metadata": {},
   "outputs": [
    {
     "name": "stdout",
     "output_type": "stream",
     "text": [
      "[[1. 2. 3.]\n",
      " [6. 4. 5.]]\n",
      "<class 'numpy.ndarray'>\n"
     ]
    }
   ],
   "source": [
    "lsit2 = [\n",
    "    [1,2,3],\n",
    "    [6,4,5]\n",
    "]\n",
    "\n",
    "arr2 = np.array(lsit2, dtype='float32')\n",
    "print(arr2)\n",
    "print(type(arr2))"
   ]
  },
  {
   "cell_type": "code",
   "execution_count": 6,
   "metadata": {},
   "outputs": [
    {
     "data": {
      "text/plain": [
       "array([0, 0, 0, 0, 0, 0, 0, 0, 0, 0])"
      ]
     },
     "execution_count": 6,
     "metadata": {},
     "output_type": "execute_result"
    }
   ],
   "source": [
    "np.zeros((3,5), dtype='int')\n",
    "np.zeros(10, dtype='int')\n"
   ]
  },
  {
   "cell_type": "code",
   "execution_count": 7,
   "metadata": {},
   "outputs": [
    {
     "data": {
      "text/plain": [
       "array([[1., 1., 1., 1., 1.],\n",
       "       [1., 1., 1., 1., 1.],\n",
       "       [1., 1., 1., 1., 1.]])"
      ]
     },
     "execution_count": 7,
     "metadata": {},
     "output_type": "execute_result"
    }
   ],
   "source": [
    "np.ones((3,5), dtype='float')"
   ]
  },
  {
   "cell_type": "code",
   "execution_count": 8,
   "metadata": {},
   "outputs": [
    {
     "data": {
      "text/plain": [
       "array([[3.14, 3.14, 3.14, 3.14, 3.14],\n",
       "       [3.14, 3.14, 3.14, 3.14, 3.14],\n",
       "       [3.14, 3.14, 3.14, 3.14, 3.14]])"
      ]
     },
     "execution_count": 8,
     "metadata": {},
     "output_type": "execute_result"
    }
   ],
   "source": [
    "np.full((3,5), 3.14)"
   ]
  },
  {
   "cell_type": "code",
   "execution_count": 9,
   "metadata": {},
   "outputs": [
    {
     "data": {
      "text/plain": [
       "array([ 0,  2,  4,  6,  8, 10, 12, 14, 16, 18])"
      ]
     },
     "execution_count": 9,
     "metadata": {},
     "output_type": "execute_result"
    }
   ],
   "source": [
    "np.arange(0,20,2)  \n",
    "#we used this in for loop as for i in range(0,20,2)"
   ]
  },
  {
   "cell_type": "code",
   "execution_count": 10,
   "metadata": {},
   "outputs": [
    {
     "data": {
      "text/plain": [
       "0.31710045693986644"
      ]
     },
     "execution_count": 10,
     "metadata": {},
     "output_type": "execute_result"
    }
   ],
   "source": [
    "np.random.random()"
   ]
  },
  {
   "cell_type": "code",
   "execution_count": 11,
   "metadata": {},
   "outputs": [
    {
     "data": {
      "text/plain": [
       "array([[ 0.82739397,  0.00430578,  0.74905818],\n",
       "       [-0.8901506 ,  0.59000404,  0.44655639],\n",
       "       [ 0.29005584, -0.40391549,  1.04227252]])"
      ]
     },
     "execution_count": 11,
     "metadata": {},
     "output_type": "execute_result"
    }
   ],
   "source": [
    "np.random.normal(0,1, (3,3))"
   ]
  },
  {
   "cell_type": "code",
   "execution_count": 12,
   "metadata": {},
   "outputs": [
    {
     "data": {
      "text/plain": [
       "array([[15, 14,  8],\n",
       "       [10, 16, 11],\n",
       "       [ 7,  3, 17]])"
      ]
     },
     "execution_count": 12,
     "metadata": {},
     "output_type": "execute_result"
    }
   ],
   "source": [
    "np.random.randint(0,20, (3,3))"
   ]
  },
  {
   "cell_type": "code",
   "execution_count": 13,
   "metadata": {},
   "outputs": [
    {
     "name": "stdout",
     "output_type": "stream",
     "text": [
      "[1 2 3 4 5 6 7]\n"
     ]
    }
   ],
   "source": [
    "list3 = [1,2,3,4,5,6,7]\n",
    "\n",
    "arr3 = np.array(list3)\n",
    "print(arr3)"
   ]
  },
  {
   "cell_type": "code",
   "execution_count": 14,
   "metadata": {},
   "outputs": [
    {
     "name": "stdout",
     "output_type": "stream",
     "text": [
      "[[1 2 3]\n",
      " [4 5 6]\n",
      " [7 8 9]]\n"
     ]
    }
   ],
   "source": [
    "sample_array = np.array([\n",
    "    [1,2,3],\n",
    "    [4,5,6],\n",
    "    [7,8,9],\n",
    "])\n",
    "print(sample_array)"
   ]
  },
  {
   "cell_type": "code",
   "execution_count": 15,
   "metadata": {},
   "outputs": [
    {
     "name": "stdout",
     "output_type": "stream",
     "text": [
      "The dimesnion is : 2\n",
      "The shape of array  is : (3, 3)\n",
      "The size of array  is : 9\n",
      "The data type is : int64\n",
      "The item size is : 8\n"
     ]
    }
   ],
   "source": [
    "print(f'The dimesnion is : {sample_array.ndim}')\n",
    "print(f'The shape of array  is : {sample_array.shape}')\n",
    "print(f'The size of array  is : {sample_array.size}')\n",
    "print(f'The data type is : {sample_array.dtype}')\n",
    "print(f'The item size is : {sample_array.itemsize}')\n"
   ]
  },
  {
   "cell_type": "code",
   "execution_count": 20,
   "metadata": {},
   "outputs": [
    {
     "data": {
      "text/plain": [
       "array([[ 1,  2,  3],\n",
       "       [ 4,  5,  6],\n",
       "       [ 7,  8,  9],\n",
       "       [10, 11, 12]])"
      ]
     },
     "execution_count": 20,
     "metadata": {},
     "output_type": "execute_result"
    }
   ],
   "source": [
    "arr = np.array([1,2,3,4,5,6,7,8,9,10,11,12])\n",
    "np.reshape(arr,(4,3))\n"
   ]
  },
  {
   "cell_type": "code",
   "execution_count": 26,
   "metadata": {},
   "outputs": [
    {
     "data": {
      "text/plain": [
       "array([[[ 1,  2],\n",
       "        [ 3,  4],\n",
       "        [ 5,  6]],\n",
       "\n",
       "       [[ 7,  8],\n",
       "        [ 9, 10],\n",
       "        [11, 12]]])"
      ]
     },
     "execution_count": 26,
     "metadata": {},
     "output_type": "execute_result"
    }
   ],
   "source": [
    "#reshaping in 3D\n",
    "arr.reshape((2,3,2)) "
   ]
  },
  {
   "cell_type": "markdown",
   "metadata": {},
   "source": [
    "Q. can we reshape to any shape?\n",
    "    yes, as long as element required for reshaping are equal in both shapes."
   ]
  },
  {
   "cell_type": "code",
   "execution_count": 30,
   "metadata": {},
   "outputs": [
    {
     "ename": "ValueError",
     "evalue": "cannot reshape array of size 8 into shape (3,3)",
     "output_type": "error",
     "traceback": [
      "\u001b[0;31m---------------------------------------------------------------------------\u001b[0m",
      "\u001b[0;31mValueError\u001b[0m                                Traceback (most recent call last)",
      "Cell \u001b[0;32mIn[30], line 5\u001b[0m\n\u001b[1;32m      1\u001b[0m \u001b[38;5;66;03m#convert 1d array with 8 elements to a 2D array with shape (3,3)\u001b[39;00m\n\u001b[1;32m      3\u001b[0m arr3 \u001b[38;5;241m=\u001b[39m np\u001b[38;5;241m.\u001b[39marray([\u001b[38;5;241m1\u001b[39m,\u001b[38;5;241m2\u001b[39m,\u001b[38;5;241m3\u001b[39m,\u001b[38;5;241m4\u001b[39m,\u001b[38;5;241m5\u001b[39m,\u001b[38;5;241m6\u001b[39m,\u001b[38;5;241m7\u001b[39m,\u001b[38;5;241m8\u001b[39m])\n\u001b[0;32m----> 5\u001b[0m \u001b[43marr3\u001b[49m\u001b[38;5;241;43m.\u001b[39;49m\u001b[43mreshape\u001b[49m\u001b[43m(\u001b[49m\u001b[43m(\u001b[49m\u001b[38;5;241;43m3\u001b[39;49m\u001b[43m,\u001b[49m\u001b[38;5;241;43m3\u001b[39;49m\u001b[43m)\u001b[49m\u001b[43m)\u001b[49m\n",
      "\u001b[0;31mValueError\u001b[0m: cannot reshape array of size 8 into shape (3,3)"
     ]
    }
   ],
   "source": [
    "#convert 1d array with 8 elements to a 2D array with shape (3,3)\n",
    "\n",
    "arr3 = np.array([1,2,3,4,5,6,7,8])\n",
    "\n",
    "arr3.reshape((3,3))"
   ]
  },
  {
   "cell_type": "markdown",
   "metadata": {},
   "source": [
    "- This process raise an exception, since there are 8 elements before reshapping and 9 elements after reshapping\n",
    "- For reshapping to happen, number of elements before reshapping should be equal to number of elements afer reshaping.\n"
   ]
  },
  {
   "cell_type": "markdown",
   "metadata": {},
   "source": [
    "#Joinin Arrays\n",
    "    Array joining meand putting content of two  or more array in  a single array.\n",
    "\n",
    "Two types:\n",
    "    1. Concatenation\n",
    "    2. Stacking\n",
    "\n",
    "1. Concatenation\n",
    "    we pass sequence of array that we want to the concatenate() function.\n",
    "    \n",
    "    syntax:\n",
    "        np.concatentation ((a1,a2, ...), axis=0, out=None)\n",
    "\n",
    "        a1,a2 are sequnece of array _like. They must have same shape\n",
    "        axis int, optional axis along which array will be concatenated\n",
    "        out ndarray "
   ]
  },
  {
   "cell_type": "code",
   "execution_count": 40,
   "metadata": {},
   "outputs": [
    {
     "data": {
      "text/plain": [
       "array([1, 1, 1, 1, 2, 2, 2, 2])"
      ]
     },
     "execution_count": 40,
     "metadata": {},
     "output_type": "execute_result"
    }
   ],
   "source": [
    "arr1 = np.array([1,1,1,1])\n",
    "arr2 = np.array([2,2,2,2])\n",
    "\n",
    "concat_arr = np.concatenate((arr1,arr2), axis=0)\n",
    "concat_arr"
   ]
  },
  {
   "cell_type": "code",
   "execution_count": 38,
   "metadata": {},
   "outputs": [
    {
     "data": {
      "text/plain": [
       "array([[1, 1, 1, 9, 9, 9],\n",
       "       [1, 1, 1, 9, 9, 9]])"
      ]
     },
     "execution_count": 38,
     "metadata": {},
     "output_type": "execute_result"
    }
   ],
   "source": [
    "a = np.array([\n",
    "            [1,1,1],\n",
    "            [1,1,1]\n",
    "            ])\n",
    "\n",
    "b = np.array([\n",
    "            [9,9,9],\n",
    "            [9,9,9]\n",
    "])\n",
    "\n",
    "concat_arr = np.concatenate((a,b), axis=1)\n",
    "concat_arr"
   ]
  },
  {
   "cell_type": "markdown",
   "metadata": {},
   "source": [
    "#spliting arrays\n",
    " - splitting is reverse operation of joining\n",
    " - joining mereges multiple arrays into one\n",
    " - splitting breaks one array into multiple one\n",
    " - can be implemented using numpy functions\n",
    "\n",
    " syntax:\n",
    "    - numpy.split()\n",
    "    - numpy.array_split()\n",
    "\n",
    "\n",
    "- we pass aray we want to split and the number of split \n",
    "- sub-arrays obtained after splitting is only view of the original arrays.\n",
    "   changes made to the sub-arrays also reflect into original arrays\n",
    "   "
   ]
  },
  {
   "cell_type": "code",
   "execution_count": null,
   "metadata": {},
   "outputs": [],
   "source": []
  },
  {
   "cell_type": "code",
   "execution_count": 51,
   "metadata": {},
   "outputs": [
    {
     "ename": "ValueError",
     "evalue": "array split does not result in an equal division",
     "output_type": "error",
     "traceback": [
      "\u001b[0;31m---------------------------------------------------------------------------\u001b[0m",
      "\u001b[0;31mValueError\u001b[0m                                Traceback (most recent call last)",
      "Cell \u001b[0;32mIn[51], line 7\u001b[0m\n\u001b[1;32m      3\u001b[0m arr \u001b[38;5;241m=\u001b[39m np\u001b[38;5;241m.\u001b[39marray(ar)\n\u001b[1;32m      5\u001b[0m arr\n\u001b[0;32m----> 7\u001b[0m spit \u001b[38;5;241m=\u001b[39m \u001b[43mnp\u001b[49m\u001b[38;5;241;43m.\u001b[39;49m\u001b[43msplit\u001b[49m\u001b[43m(\u001b[49m\u001b[43marr\u001b[49m\u001b[43m,\u001b[49m\u001b[38;5;241;43m4\u001b[39;49m\u001b[43m)\u001b[49m\n\u001b[1;32m     14\u001b[0m \u001b[38;5;66;03m# a = np.array([\u001b[39;00m\n\u001b[1;32m     15\u001b[0m \u001b[38;5;66;03m#             [1,1,1],\u001b[39;00m\n\u001b[1;32m     16\u001b[0m \u001b[38;5;66;03m#             [1,1,1]\u001b[39;00m\n\u001b[0;32m   (...)\u001b[0m\n\u001b[1;32m     24\u001b[0m \u001b[38;5;66;03m# split = np.split(a)\u001b[39;00m\n\u001b[1;32m     25\u001b[0m \u001b[38;5;66;03m# split\u001b[39;00m\n",
      "File \u001b[0;32m/mnt/MrA/ML/Machine-Learning/venv/lib/python3.11/site-packages/numpy/lib/shape_base.py:864\u001b[0m, in \u001b[0;36msplit\u001b[0;34m(ary, indices_or_sections, axis)\u001b[0m\n\u001b[1;32m    862\u001b[0m     N \u001b[38;5;241m=\u001b[39m ary\u001b[38;5;241m.\u001b[39mshape[axis]\n\u001b[1;32m    863\u001b[0m     \u001b[38;5;28;01mif\u001b[39;00m N \u001b[38;5;241m%\u001b[39m sections:\n\u001b[0;32m--> 864\u001b[0m         \u001b[38;5;28;01mraise\u001b[39;00m \u001b[38;5;167;01mValueError\u001b[39;00m(\n\u001b[1;32m    865\u001b[0m             \u001b[38;5;124m'\u001b[39m\u001b[38;5;124marray split does not result in an equal division\u001b[39m\u001b[38;5;124m'\u001b[39m) \u001b[38;5;28;01mfrom\u001b[39;00m \u001b[38;5;28;01mNone\u001b[39;00m\n\u001b[1;32m    866\u001b[0m \u001b[38;5;28;01mreturn\u001b[39;00m array_split(ary, indices_or_sections, axis)\n",
      "\u001b[0;31mValueError\u001b[0m: array split does not result in an equal division"
     ]
    }
   ],
   "source": [
    "ar = [1,2,3,4,5,6]\n",
    "\n",
    "arr = np.array(ar)\n",
    "\n",
    "arr\n",
    "\n",
    "spit = np.split(arr,4)\n",
    "\n"
   ]
  },
  {
   "cell_type": "code",
   "execution_count": 55,
   "metadata": {},
   "outputs": [
    {
     "data": {
      "text/plain": [
       "[array([1, 2]), array([3, 4]), array([5]), array([6])]"
      ]
     },
     "execution_count": 55,
     "metadata": {},
     "output_type": "execute_result"
    }
   ],
   "source": [
    "spit = np.array_split(arr,4)\n",
    "spit"
   ]
  },
  {
   "cell_type": "code",
   "execution_count": 56,
   "metadata": {},
   "outputs": [
    {
     "data": {
      "text/plain": [
       "[array([[1, 1, 1]]),\n",
       " array([[1, 1, 1]]),\n",
       " array([[9, 9, 9]]),\n",
       " array([[9, 9, 9]])]"
      ]
     },
     "execution_count": 56,
     "metadata": {},
     "output_type": "execute_result"
    }
   ],
   "source": [
    "\n",
    "#splitting 2D array\n",
    "\n",
    "a = np.array([\n",
    "            [1,1,1],\n",
    "            [1,1,1],\n",
    "            [9,9,9],\n",
    "            [9,9,9]\n",
    " ])\n",
    "\n",
    "\n",
    "np.array_split(a,4)"
   ]
  },
  {
   "cell_type": "code",
   "execution_count": 59,
   "metadata": {},
   "outputs": [
    {
     "data": {
      "text/plain": [
       "[array([[1],\n",
       "        [1],\n",
       "        [9],\n",
       "        [9]]),\n",
       " array([[1],\n",
       "        [1],\n",
       "        [9],\n",
       "        [9]]),\n",
       " array([[1],\n",
       "        [1],\n",
       "        [9],\n",
       "        [9]]),\n",
       " array([], shape=(4, 0), dtype=int64)]"
      ]
     },
     "execution_count": 59,
     "metadata": {},
     "output_type": "execute_result"
    }
   ],
   "source": [
    "\n",
    "#splitting 2D array\n",
    "\n",
    "a = np.array([\n",
    "            [1,1,1],\n",
    "            [1,1,1],\n",
    "            [9,9,9],\n",
    "            [9,9,9]\n",
    " ])\n",
    "\n",
    "\n",
    "np.array_split(a,4, axis=1)"
   ]
  },
  {
   "cell_type": "markdown",
   "metadata": {},
   "source": [
    "Numpy Universal Function (Ufuncs)\n",
    "- Looping over the array to perform repeated task like addition, subtraction etc on each array element are common\n",
    "- computation time to perform such repeated task increases with relatively larger data\n",
    "- Numpy makes this faster by using vectorized opertaions, implemented through ufuncs.\n",
    "- Types:\n",
    "    - Uniary\n",
    "    - Binary "
   ]
  },
  {
   "cell_type": "code",
   "execution_count": 63,
   "metadata": {},
   "outputs": [
    {
     "name": "stdout",
     "output_type": "stream",
     "text": [
      "[1.00000000e+00 4.00000000e+00 9.00000000e+00 ... 9.99940001e+09\n",
      " 9.99960000e+09 9.99980000e+09]\n",
      "0.11300263399999988\n"
     ]
    }
   ],
   "source": [
    "import time\n",
    "\n",
    "x1 = np.arange(1,100000)\n",
    "x2 = np.arange(1,100000)\n",
    "mul = np.zeros(x1.shape)\n",
    "start_time = time.process_time()\n",
    "\n",
    "for i in range(len(x1)):\n",
    "    mul[i] = x1[i] * x2[i]\n",
    "\n",
    "print(mul)\n",
    "end_time = time.process_time()\n",
    "\n",
    "print(end_time - start_time)"
   ]
  },
  {
   "cell_type": "code",
   "execution_count": 67,
   "metadata": {},
   "outputs": [
    {
     "name": "stdout",
     "output_type": "stream",
     "text": [
      "shape of [1 2 3]\n",
      "shape of [[10]\n",
      " [20]\n",
      " [30]]\n",
      "[[11 12 13]\n",
      " [21 22 23]\n",
      " [31 32 33]]\n"
     ]
    }
   ],
   "source": [
    "a = np.array([1,2,3])\n",
    "b = np.array([[10],[20],[30]])\n",
    "\n",
    "print(f'shape of {a}')\n",
    "print(f'shape of {b}')\n",
    "\n",
    "print(a+b)"
   ]
  }
 ],
 "metadata": {
  "kernelspec": {
   "display_name": "venv",
   "language": "python",
   "name": "python3"
  },
  "language_info": {
   "codemirror_mode": {
    "name": "ipython",
    "version": 3
   },
   "file_extension": ".py",
   "mimetype": "text/x-python",
   "name": "python",
   "nbconvert_exporter": "python",
   "pygments_lexer": "ipython3",
   "version": "3.11.6"
  }
 },
 "nbformat": 4,
 "nbformat_minor": 2
}
